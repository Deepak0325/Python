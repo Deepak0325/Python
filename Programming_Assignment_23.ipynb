{
  "nbformat": 4,
  "nbformat_minor": 0,
  "metadata": {
    "colab": {
      "name": "Programming Assignment 23.ipynb",
      "provenance": [],
      "collapsed_sections": [],
      "authorship_tag": "ABX9TyNEUnPex40FDfnKt4Ozkn4G",
      "include_colab_link": true
    },
    "kernelspec": {
      "name": "python3",
      "display_name": "Python 3"
    },
    "language_info": {
      "name": "python"
    }
  },
  "cells": [
    {
      "cell_type": "markdown",
      "metadata": {
        "id": "view-in-github",
        "colab_type": "text"
      },
      "source": [
        "<a href=\"https://colab.research.google.com/github/Deepak0325/Python/blob/main/Programming_Assignment_23.ipynb\" target=\"_parent\"><img src=\"https://colab.research.google.com/assets/colab-badge.svg\" alt=\"Open In Colab\"/></a>"
      ]
    },
    {
      "cell_type": "code",
      "execution_count": null,
      "metadata": {
        "id": "EyuHQB75m1nU"
      },
      "outputs": [],
      "source": [
        "#q1\n",
        "def is_symmetrical(inp_):\n",
        "  \"\"\" This function will take integer as an input and will return if the number is symmetrical or not\"\"\"\n",
        "  inp_=str(inp_)\n",
        "  if len(inp_)%2==0:\n",
        "    if inp_[:int(len(inp_)/2)]==inp_[int(len(a)/2):][::-1]:\n",
        "      print(True)\n",
        "    else:\n",
        "      print(False)\n",
        "  else:\n",
        "    if inp_[:round(len(inp_)/2)]==inp_[round(len(inp_)/2)+1:][::-1]:\n",
        "      print(True)\n",
        "    else:\n",
        "      print(False)\n",
        "    \n"
      ]
    },
    {
      "cell_type": "code",
      "source": [
        "is_symmetrical(\"123454321\")"
      ],
      "metadata": {
        "colab": {
          "base_uri": "https://localhost:8080/"
        },
        "id": "eIHUNDr4omaU",
        "outputId": "4ea54bb5-eeb3-438e-99ae-5e2c6b2eee3e"
      },
      "execution_count": null,
      "outputs": [
        {
          "output_type": "stream",
          "name": "stdout",
          "text": [
            "True\n"
          ]
        }
      ]
    },
    {
      "cell_type": "code",
      "source": [
        "#q2\n",
        "def multiply_nums(inp_):\n",
        "  k=1\n",
        "  try:\n",
        "    for i in inp_.split(sep=\", \"):\n",
        "      k=k*float(i)\n",
        "    print(k)\n",
        "  except Exception as e:\n",
        "    print(e)\n"
      ],
      "metadata": {
        "id": "Ehihk26ksH2Q"
      },
      "execution_count": null,
      "outputs": []
    },
    {
      "cell_type": "code",
      "source": [
        "multiply_nums(\"5, 4, 6\")"
      ],
      "metadata": {
        "colab": {
          "base_uri": "https://localhost:8080/"
        },
        "id": "ZVTPRPBgp2_A",
        "outputId": "ea96b5ef-971d-4e3a-8983-1b00500e1176"
      },
      "execution_count": null,
      "outputs": [
        {
          "output_type": "stream",
          "name": "stdout",
          "text": [
            "120.0\n"
          ]
        }
      ]
    },
    {
      "cell_type": "code",
      "source": [
        "#q3\n",
        "def square_digits(inp_):\n",
        "  \"\"\" this function will return the square of individual digits inside an integer\"\"\"\n",
        "  l=[]\n",
        "  try:\n",
        "    for i in str(inp_):\n",
        "      l.append(str(int(i)**2))\n",
        "    return int(\"\".join(l))\n",
        "  except Exception as e:\n",
        "    return e\n"
      ],
      "metadata": {
        "id": "F7JIdZjurfHI"
      },
      "execution_count": null,
      "outputs": []
    },
    {
      "cell_type": "code",
      "source": [
        "square_digits(2234)"
      ],
      "metadata": {
        "colab": {
          "base_uri": "https://localhost:8080/"
        },
        "id": "xejDalHkrfFx",
        "outputId": "d01477ea-fb58-494d-ac00-e3b68a44b389"
      },
      "execution_count": null,
      "outputs": [
        {
          "output_type": "execute_result",
          "data": {
            "text/plain": [
              "int"
            ]
          },
          "metadata": {},
          "execution_count": 53
        }
      ]
    },
    {
      "cell_type": "code",
      "source": [
        "#q4\n",
        "def setify(inp_):\n",
        "  return list(set(sorted(inp_)))"
      ],
      "metadata": {
        "id": "KHNfFA-xrfDr"
      },
      "execution_count": null,
      "outputs": []
    },
    {
      "cell_type": "code",
      "source": [
        "setify([5,3,1,5,3])"
      ],
      "metadata": {
        "colab": {
          "base_uri": "https://localhost:8080/"
        },
        "id": "L4VS9Ou8re_y",
        "outputId": "cae7d900-7179-4385-d80b-3459ada01cf7"
      },
      "execution_count": null,
      "outputs": [
        {
          "output_type": "execute_result",
          "data": {
            "text/plain": [
              "[1, 3, 5]"
            ]
          },
          "metadata": {},
          "execution_count": 59
        }
      ]
    },
    {
      "cell_type": "code",
      "source": [
        "#q5\n",
        "def mean1(inp_):\n",
        "  \"\"\" This function will return the mean of all the digits inside an integer\"\"\"\n",
        "  list_=list(str(inp_))\n",
        "  k=0\n",
        "  for i in list_:\n",
        "    k=k+int(i)\n",
        "  return int(k/len(list_))\n"
      ],
      "metadata": {
        "id": "aBbDeK3su5w3"
      },
      "execution_count": null,
      "outputs": []
    },
    {
      "cell_type": "code",
      "source": [
        "print(mean1(666))"
      ],
      "metadata": {
        "colab": {
          "base_uri": "https://localhost:8080/"
        },
        "id": "j3YZlthRwHPy",
        "outputId": "d2942065-4cfd-43b3-f559-bea6aa6adef3"
      },
      "execution_count": null,
      "outputs": [
        {
          "output_type": "execute_result",
          "data": {
            "text/plain": [
              "6"
            ]
          },
          "metadata": {},
          "execution_count": 72
        }
      ]
    }
  ]
}