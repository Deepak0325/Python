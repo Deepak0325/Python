{
  "nbformat": 4,
  "nbformat_minor": 0,
  "metadata": {
    "colab": {
      "name": "Programming_Assignment11.ipynb",
      "provenance": [],
      "collapsed_sections": [],
      "authorship_tag": "ABX9TyNmO1wYzRVn7B3K1G7JoPcL",
      "include_colab_link": true
    },
    "kernelspec": {
      "name": "python3",
      "display_name": "Python 3"
    },
    "language_info": {
      "name": "python"
    }
  },
  "cells": [
    {
      "cell_type": "markdown",
      "metadata": {
        "id": "view-in-github",
        "colab_type": "text"
      },
      "source": [
        "<a href=\"https://colab.research.google.com/github/Deepak0325/Python/blob/main/Programming_Assignment11.ipynb\" target=\"_parent\"><img src=\"https://colab.research.google.com/assets/colab-badge.svg\" alt=\"Open In Colab\"/></a>"
      ]
    },
    {
      "cell_type": "code",
      "source": [
        "#q1\n",
        "str_inp=input(\"Enter a word: \")\n",
        "k=int(input(\"Enter a number: \"))\n",
        "if len(str_inp)>k:\n",
        "  print(f\"You passed a string of length {len(str_inp)} which is greater than {k}\")\n",
        "elif len(str_inp)==k:\n",
        "  print(f\"You have passed a string of length {len(str_inp)} which is equal to {k}\")\n",
        "else:\n",
        "  print(f\"You have passed a string of length {len(str_inp)} which is less than {k}\")"
      ],
      "metadata": {
        "colab": {
          "base_uri": "https://localhost:8080/"
        },
        "id": "OiA0gEPoVTSM",
        "outputId": "0ba2df41-b1cd-4d86-dc0d-7122728b8ada"
      },
      "execution_count": null,
      "outputs": [
        {
          "output_type": "stream",
          "name": "stdout",
          "text": [
            "Enter a word: Hello\n",
            "Enter a number6\n",
            "You have passed a string of length 5 which is less than 6\n"
          ]
        }
      ]
    },
    {
      "cell_type": "code",
      "source": [
        "#q2\n",
        "\"\"\"In this index starts from 0 so if you want to remove the nth element please pass (n-1)\"\"\"\n",
        "str_inp=input(\"Enter a word: \")\n",
        "ele_remover=int(input(\"Enter a number: \"))\n",
        "str_inp=str_inp.replace(str_inp[ele_remover],\"\")\n",
        "print(str_inp)\n",
        "\n"
      ],
      "metadata": {
        "colab": {
          "base_uri": "https://localhost:8080/"
        },
        "id": "tIN6cdeoWpZ7",
        "outputId": "444c0c80-6395-4c0f-b959-e1fada2b4776"
      },
      "execution_count": null,
      "outputs": [
        {
          "output_type": "stream",
          "name": "stdout",
          "text": [
            "Enter a wordhello\n",
            "Enter a number1\n",
            "hllo\n"
          ]
        }
      ]
    },
    {
      "cell_type": "code",
      "source": [
        "#q3 Spliting a string\n",
        "str_inp=input(\"Enter a string: \")\n",
        "# As string can be of a word as well as combination of words.\n",
        "if \" \" in str_inp:\n",
        "  l=str_inp.split()\n",
        "  print(l)\n",
        "elif \" \" not in str_inp:\n",
        "  l1=list(str_inp)\n",
        "  print(l1)\n"
      ],
      "metadata": {
        "colab": {
          "base_uri": "https://localhost:8080/"
        },
        "id": "8SadMC0AYae-",
        "outputId": "a2522aef-b0b8-4044-b16b-3854d5c74526"
      },
      "execution_count": null,
      "outputs": [
        {
          "output_type": "stream",
          "name": "stdout",
          "text": [
            "Enter a word: hello world\n",
            "['hello', 'world']\n"
          ]
        }
      ]
    },
    {
      "cell_type": "code",
      "source": [
        "#q3 Joining a string\n",
        "str_inp=input(\"Enter a string you want to join \")\n",
        "str_inp=\" \".join(str_inp.split())\n",
        "print(str_inp)"
      ],
      "metadata": {
        "id": "qmIQU7RqYmIE",
        "colab": {
          "base_uri": "https://localhost:8080/"
        },
        "outputId": "083f12ae-d130-47fc-fae4-347b7847e8b1"
      },
      "execution_count": 3,
      "outputs": [
        {
          "output_type": "stream",
          "name": "stdout",
          "text": [
            "Enter a string you want to join hello world\n",
            "hello world\n"
          ]
        }
      ]
    },
    {
      "cell_type": "code",
      "source": [
        "\" \".join([\"hello\",\"world\"])"
      ],
      "metadata": {
        "colab": {
          "base_uri": "https://localhost:8080/",
          "height": 36
        },
        "id": "Up6vt7I_bs_j",
        "outputId": "cbdffe6a-6cfd-4696-b935-61a487b4ddce"
      },
      "execution_count": null,
      "outputs": [
        {
          "output_type": "execute_result",
          "data": {
            "text/plain": [
              "'hello world'"
            ],
            "application/vnd.google.colaboratory.intrinsic+json": {
              "type": "string"
            }
          },
          "metadata": {},
          "execution_count": 11
        }
      ]
    },
    {
      "cell_type": "code",
      "source": [
        "#q4\n",
        "# Binary string is that string with only 0 and 1 in a string\n",
        "str_inp=input(\"Enter a string: \")\n",
        "try:\n",
        "  if type(float(str_inp))==float:\n",
        "    print(\"yes it is a binary string\")\n",
        "  else:\n",
        "    print(\"no it is not a binary string\")\n",
        "except Exception as e:\n",
        "  print(\"No,it is not a binary string\")"
      ],
      "metadata": {
        "colab": {
          "base_uri": "https://localhost:8080/"
        },
        "id": "p9g9yFi2by5i",
        "outputId": "51d02aad-2955-404b-a051-dc2a088fd75b"
      },
      "execution_count": null,
      "outputs": [
        {
          "output_type": "stream",
          "name": "stdout",
          "text": [
            "Enter a string: hjkg\n",
            "No,it is not a binary string\n"
          ]
        }
      ]
    },
    {
      "cell_type": "code",
      "source": [
        "#q5\n",
        "str_1=input(\"Enter a string: \")\n",
        "str_2=input(\"Enter another string: \")\n",
        "list_str_1=str_1.split()\n",
        "list_str_2=str_2.split()\n",
        "\n",
        "for i in range(len(list_str_1)):\n",
        "  if list_str_1[i]!=list_str_2[i]:\n",
        "    print(f\"Uncommon word from string 1 is {list_str_1[i]}\")\n",
        "    print(f\"Uncommon word from string 2 is {list_str_2[i]}\")"
      ],
      "metadata": {
        "id": "3JkO1-XffTvj",
        "colab": {
          "base_uri": "https://localhost:8080/"
        },
        "outputId": "313806b9-96c9-4205-a252-1428ef64b281"
      },
      "execution_count": 8,
      "outputs": [
        {
          "output_type": "stream",
          "name": "stdout",
          "text": [
            "Enter a string: hello world deepak here\n",
            "Enter another string: hello world sudhanshu here\n",
            "Uncommon word from string 1 is deepak\n",
            "Uncommon word from string 2 is sudhanshu\n"
          ]
        }
      ]
    },
    {
      "cell_type": "code",
      "source": [
        "#q6\n",
        "str_1=input(\"Enter a string: \")\n",
        "list_str_1=list(str_1)\n",
        "for i in set(list_str_1):\n",
        "  if list_str_1.count(i)>1:\n",
        "    print(f\"{i} is a duplicate character and is repeating {list_str_1.count(i)} times\")"
      ],
      "metadata": {
        "colab": {
          "base_uri": "https://localhost:8080/"
        },
        "id": "Pp2T3ryz6qI6",
        "outputId": "89cbe4cc-ed45-45dd-fa39-e41e09bef06e"
      },
      "execution_count": 10,
      "outputs": [
        {
          "output_type": "stream",
          "name": "stdout",
          "text": [
            "Enter a string: hello\n",
            "l is a duplicate character and is repeating 2 times\n"
          ]
        }
      ]
    },
    {
      "cell_type": "code",
      "source": [
        "#q7\n",
        "str_1=input(\"Enter a string: \")\n",
        "if str_1.isalnum()==False:\n",
        "  print(\"This string has special characters\")\n",
        "else:\n",
        "  print(\"This string does not have any special character\")\n"
      ],
      "metadata": {
        "colab": {
          "base_uri": "https://localhost:8080/"
        },
        "id": "Fdl8ak7C8Kgz",
        "outputId": "62333a7d-ac8f-496d-c068-685af21896d3"
      },
      "execution_count": 24,
      "outputs": [
        {
          "output_type": "stream",
          "name": "stdout",
          "text": [
            "Enter a string: hello123{}\n",
            "This string has special characters\n"
          ]
        }
      ]
    }
  ]
}