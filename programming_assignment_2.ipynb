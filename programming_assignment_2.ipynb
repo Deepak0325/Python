{
  "nbformat": 4,
  "nbformat_minor": 0,
  "metadata": {
    "colab": {
      "name": "programming_assignment_2.ipynb",
      "provenance": [],
      "authorship_tag": "ABX9TyNjI8RwA5gYs6on+VoLThv7",
      "include_colab_link": true
    },
    "kernelspec": {
      "name": "python3",
      "display_name": "Python 3"
    },
    "language_info": {
      "name": "python"
    }
  },
  "cells": [
    {
      "cell_type": "markdown",
      "metadata": {
        "id": "view-in-github",
        "colab_type": "text"
      },
      "source": [
        "<a href=\"https://colab.research.google.com/github/Deepak0325/Python/blob/main/programming_assignment_2.ipynb\" target=\"_parent\"><img src=\"https://colab.research.google.com/assets/colab-badge.svg\" alt=\"Open In Colab\"/></a>"
      ]
    },
    {
      "cell_type": "code",
      "execution_count": 1,
      "metadata": {
        "colab": {
          "base_uri": "https://localhost:8080/"
        },
        "id": "B60b-6wNUJFp",
        "outputId": "475f8bcd-9a84-4011-b69c-cd7f2a71176a"
      },
      "outputs": [
        {
          "output_type": "stream",
          "name": "stdout",
          "text": [
            "enter the number of kilometers:10\n",
            "10 kilometers is equal to  6.21371 miles\n"
          ]
        }
      ],
      "source": [
        "#q1\n",
        "km=int(input(\"enter the number of kilometers:\"))\n",
        "print(f\"{km} kilometers is equal to  {0.621371*km} miles\")"
      ]
    },
    {
      "cell_type": "code",
      "source": [
        "#q2\n",
        "celcius=float(input(\"Enter the amount in celcius:\"))\n",
        "print(f\"{celcius} celcius is equals to {(celcius*1.8)+32} farenheit\")"
      ],
      "metadata": {
        "colab": {
          "base_uri": "https://localhost:8080/"
        },
        "id": "ZBKBajvnUvo0",
        "outputId": "89b0c333-59cc-4488-bda4-224c010d5bcb"
      },
      "execution_count": 3,
      "outputs": [
        {
          "output_type": "stream",
          "name": "stdout",
          "text": [
            "Enter the amount in celcius:1\n",
            "1.0 celcius is equals to 33.8 farenheit\n"
          ]
        }
      ]
    },
    {
      "cell_type": "code",
      "source": [
        "#q3\n",
        "import calendar"
      ],
      "metadata": {
        "id": "2dL4tPsmV_hO"
      },
      "execution_count": 9,
      "outputs": []
    },
    {
      "cell_type": "code",
      "source": [
        "print(calendar.month(2022,7))"
      ],
      "metadata": {
        "colab": {
          "base_uri": "https://localhost:8080/"
        },
        "id": "HYkVKRiEWZOY",
        "outputId": "64e59f17-bb26-418e-abed-25e1d8b47b29"
      },
      "execution_count": 13,
      "outputs": [
        {
          "output_type": "stream",
          "name": "stdout",
          "text": [
            "     July 2022\n",
            "Mo Tu We Th Fr Sa Su\n",
            "             1  2  3\n",
            " 4  5  6  7  8  9 10\n",
            "11 12 13 14 15 16 17\n",
            "18 19 20 21 22 23 24\n",
            "25 26 27 28 29 30 31\n",
            "\n"
          ]
        }
      ]
    },
    {
      "cell_type": "code",
      "source": [
        "#q4\n",
        "a=float(input(\"Enter your first number : \"))\n",
        "b=float(input(\"Enter your second number : \"))\n",
        "c=float(input(\"Enter your third number : \"))\n",
        "print((-b-((b*b)-(4*a*c))**0.5)/2*a)\n",
        "print((-b+((b*b)-(4*a*c))**0.5)/2*a)"
      ],
      "metadata": {
        "colab": {
          "base_uri": "https://localhost:8080/"
        },
        "id": "XTiSFBAOXfbK",
        "outputId": "a1d011b6-a44d-4437-d14f-87e2edff0d22"
      },
      "execution_count": 15,
      "outputs": [
        {
          "output_type": "stream",
          "name": "stdout",
          "text": [
            "Enter your first number : 1\n",
            "Enter your second number : 2\n",
            "Enter your third number : 1\n",
            "-1.0\n",
            "-1.0\n"
          ]
        }
      ]
    },
    {
      "cell_type": "code",
      "source": [
        "#q5\n",
        "var_1=input(\"Enter your first variable:\")\n",
        "var_2=input(\"Enter your second variable:\")\n",
        "var_1,var_2=var_2,var_1\n",
        "print(f\"Value of first variable is {var_1}\")\n",
        "print(f\"Value of second variable is {var_2}\")"
      ],
      "metadata": {
        "colab": {
          "base_uri": "https://localhost:8080/"
        },
        "id": "gGNlJrv4ZZJ6",
        "outputId": "14d4b814-b3ea-4645-8ef8-2e0240def772"
      },
      "execution_count": 16,
      "outputs": [
        {
          "output_type": "stream",
          "name": "stdout",
          "text": [
            "Enter your first variable:1\n",
            "Enter your second variable:2\n",
            "Value of first variable is 2\n",
            "Value of second variable is 1\n"
          ]
        }
      ]
    }
  ]
}