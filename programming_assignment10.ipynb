{
  "nbformat": 4,
  "nbformat_minor": 0,
  "metadata": {
    "colab": {
      "name": "programming_assignment10.ipynb",
      "provenance": [],
      "authorship_tag": "ABX9TyPQeXAv7V15zJl/Go37mIFD",
      "include_colab_link": true
    },
    "kernelspec": {
      "name": "python3",
      "display_name": "Python 3"
    },
    "language_info": {
      "name": "python"
    }
  },
  "cells": [
    {
      "cell_type": "markdown",
      "metadata": {
        "id": "view-in-github",
        "colab_type": "text"
      },
      "source": [
        "<a href=\"https://colab.research.google.com/github/Deepak0325/Python/blob/main/programming_assignment10.ipynb\" target=\"_parent\"><img src=\"https://colab.research.google.com/assets/colab-badge.svg\" alt=\"Open In Colab\"/></a>"
      ]
    },
    {
      "cell_type": "code",
      "execution_count": 11,
      "metadata": {
        "id": "NXj3QWIPWZ7Z"
      },
      "outputs": [],
      "source": [
        "#q1\n",
        "def sum_(l):\n",
        "    i=0  \n",
        "    if type(l)==list:\n",
        "      for j in l:\n",
        "        i=i+j\n",
        "    return i"
      ]
    },
    {
      "cell_type": "code",
      "source": [
        "print(sum_([1,2,3,4,5]))"
      ],
      "metadata": {
        "colab": {
          "base_uri": "https://localhost:8080/"
        },
        "id": "Fyu3dvs4XEPw",
        "outputId": "4b78614c-4a1e-4454-d050-3289f9f17393"
      },
      "execution_count": 12,
      "outputs": [
        {
          "output_type": "stream",
          "name": "stdout",
          "text": [
            "15\n"
          ]
        }
      ]
    },
    {
      "cell_type": "code",
      "source": [
        "#q2\n",
        "def mul(l):\n",
        "    j=1\n",
        "    if type(l)==list:\n",
        "        for i in l:\n",
        "            j=j*i\n",
        "        return j"
      ],
      "metadata": {
        "id": "UeEBQmI-WjxZ"
      },
      "execution_count": 13,
      "outputs": []
    },
    {
      "cell_type": "code",
      "source": [
        "print(mul([1,2,3,4,5]))"
      ],
      "metadata": {
        "colab": {
          "base_uri": "https://localhost:8080/"
        },
        "id": "cj7x4KG7X6cz",
        "outputId": "85bb311b-0c59-42d3-80df-76e63933a3e3"
      },
      "execution_count": 14,
      "outputs": [
        {
          "output_type": "stream",
          "name": "stdout",
          "text": [
            "120\n"
          ]
        }
      ]
    },
    {
      "cell_type": "code",
      "source": [
        "#q3\n",
        "def small(l):\n",
        "    if type(l)==list:\n",
        "        l.sort()\n",
        "        return l[0]"
      ],
      "metadata": {
        "id": "-CePANDmWn0L"
      },
      "execution_count": 15,
      "outputs": []
    },
    {
      "cell_type": "code",
      "source": [
        "print(small([5,4,2,1,6,8,9]))"
      ],
      "metadata": {
        "colab": {
          "base_uri": "https://localhost:8080/"
        },
        "id": "xRo2uCKVYDAx",
        "outputId": "a3e7133d-ba79-4b48-b415-d2a01114bbd6"
      },
      "execution_count": 16,
      "outputs": [
        {
          "output_type": "stream",
          "name": "stdout",
          "text": [
            "1\n"
          ]
        }
      ]
    },
    {
      "cell_type": "code",
      "source": [
        "#q4\n",
        "def large(l):\n",
        "    if type(l)==list:\n",
        "        l.sort()\n",
        "        return l[-1]"
      ],
      "metadata": {
        "id": "VRr6PiCCWrV9"
      },
      "execution_count": 17,
      "outputs": []
    },
    {
      "cell_type": "code",
      "source": [
        "print(large([5,4,2,10,1,6,8,9]))"
      ],
      "metadata": {
        "colab": {
          "base_uri": "https://localhost:8080/"
        },
        "id": "CBE3tU3FYJst",
        "outputId": "69410e0c-dc16-4ae9-c737-47e1ba78e790"
      },
      "execution_count": 19,
      "outputs": [
        {
          "output_type": "stream",
          "name": "stdout",
          "text": [
            "10\n"
          ]
        }
      ]
    },
    {
      "cell_type": "code",
      "source": [
        "#q5\n",
        "def second_large(l):\n",
        "    if type(l) == list:\n",
        "        l.sort()\n",
        "        return l[-2]"
      ],
      "metadata": {
        "id": "fZ18PZlxWtxQ"
      },
      "execution_count": 20,
      "outputs": []
    },
    {
      "cell_type": "code",
      "source": [
        "print(second_large([5,4,2,10,1,6,8,9]))"
      ],
      "metadata": {
        "colab": {
          "base_uri": "https://localhost:8080/"
        },
        "id": "7mdjv4TrYPqJ",
        "outputId": "6eb404cf-deb4-43e2-986c-b1bd970794fa"
      },
      "execution_count": 21,
      "outputs": [
        {
          "output_type": "stream",
          "name": "stdout",
          "text": [
            "9\n"
          ]
        }
      ]
    },
    {
      "cell_type": "code",
      "source": [
        "#q6\n",
        "def n_large(l,inp_):\n",
        "    if type(l) == list:\n",
        "        l.sort(reverse=True)\n",
        "        return l[:inp_]"
      ],
      "metadata": {
        "id": "S8vH9b6sWwLF"
      },
      "execution_count": 32,
      "outputs": []
    },
    {
      "cell_type": "code",
      "source": [
        "print(n_large([5,4,2,1,6,8,9],3))"
      ],
      "metadata": {
        "colab": {
          "base_uri": "https://localhost:8080/"
        },
        "id": "W5Jyq8PzYX9r",
        "outputId": "0544af9c-7752-4006-9761-801ffcb8c61d"
      },
      "execution_count": 33,
      "outputs": [
        {
          "output_type": "stream",
          "name": "stdout",
          "text": [
            "[9, 8, 6]\n"
          ]
        }
      ]
    },
    {
      "cell_type": "code",
      "source": [
        "#q7\n",
        "def even(l):\n",
        "    j=[]\n",
        "    if type(l)==list:\n",
        "        for i in l:\n",
        "            if i%2==0:\n",
        "                j.append(i)\n",
        "        return j"
      ],
      "metadata": {
        "id": "PjzEVrEpWyLj"
      },
      "execution_count": 34,
      "outputs": []
    },
    {
      "cell_type": "code",
      "source": [
        "print(even([5,4,2,1,6,8,9]))"
      ],
      "metadata": {
        "colab": {
          "base_uri": "https://localhost:8080/"
        },
        "id": "v1nIDV0UZBZW",
        "outputId": "179249b0-156a-4755-a465-270669cffec2"
      },
      "execution_count": 35,
      "outputs": [
        {
          "output_type": "stream",
          "name": "stdout",
          "text": [
            "[4, 2, 6, 8]\n"
          ]
        }
      ]
    },
    {
      "cell_type": "code",
      "source": [
        "#q8\n",
        "def odd(l):\n",
        "    j=[]\n",
        "    if type(l)==list:\n",
        "        for i in l:\n",
        "            if i%2!=0:\n",
        "                j.append(i)\n",
        "        return j"
      ],
      "metadata": {
        "id": "tbcJcbr1W0EW"
      },
      "execution_count": 36,
      "outputs": []
    },
    {
      "cell_type": "code",
      "source": [
        "print(odd([5,4,2,1,6,8,9]))"
      ],
      "metadata": {
        "colab": {
          "base_uri": "https://localhost:8080/"
        },
        "id": "6ozqrwnhZHPQ",
        "outputId": "ad6d3de3-454e-4901-ffa6-676a327a50ed"
      },
      "execution_count": 37,
      "outputs": [
        {
          "output_type": "stream",
          "name": "stdout",
          "text": [
            "[5, 1, 9]\n"
          ]
        }
      ]
    },
    {
      "cell_type": "code",
      "source": [
        "#q9\n",
        "def rem_emp_list(l):\n",
        "    if type(l)==list:\n",
        "        for i in l:\n",
        "            if type(i)==list:\n",
        "                if len(i)==0:\n",
        "                    l.remove(i)\n",
        "    return l"
      ],
      "metadata": {
        "id": "Blaw6gBBW1ay"
      },
      "execution_count": 38,
      "outputs": []
    },
    {
      "cell_type": "code",
      "source": [
        "print(rem_emp_list([5,4,2,1,6,8,[],9]))"
      ],
      "metadata": {
        "colab": {
          "base_uri": "https://localhost:8080/"
        },
        "id": "o8EZ-AbPZKti",
        "outputId": "e112f169-a9a6-4b64-c72d-6538d75f76e5"
      },
      "execution_count": 39,
      "outputs": [
        {
          "output_type": "stream",
          "name": "stdout",
          "text": [
            "[5, 4, 2, 1, 6, 8, 9]\n"
          ]
        }
      ]
    },
    {
      "cell_type": "code",
      "source": [
        "#q10\n",
        "def cop(l):\n",
        "    k=[]\n",
        "    if type(l)==list:\n",
        "        k=l.copy()\n",
        "    return k"
      ],
      "metadata": {
        "id": "_digX2XPW3NK"
      },
      "execution_count": 40,
      "outputs": []
    },
    {
      "cell_type": "code",
      "source": [
        "print(cop([1,2,3,45,5]))"
      ],
      "metadata": {
        "colab": {
          "base_uri": "https://localhost:8080/"
        },
        "id": "nRwvlV6sZSRF",
        "outputId": "7718851a-328b-466b-9c73-1286acaf1b7c"
      },
      "execution_count": 42,
      "outputs": [
        {
          "output_type": "stream",
          "name": "stdout",
          "text": [
            "[1, 2, 3, 45, 5]\n"
          ]
        }
      ]
    },
    {
      "cell_type": "code",
      "source": [
        "#q11\n",
        "def coun(l,element_):\n",
        "    if type(l)==list:\n",
        "        return l.count(element_)"
      ],
      "metadata": {
        "id": "zETiPLLYW4k7"
      },
      "execution_count": 41,
      "outputs": []
    },
    {
      "cell_type": "code",
      "source": [
        "print(coun([1,2,4,5,5,5,5,5,5,5,5,5],5))"
      ],
      "metadata": {
        "colab": {
          "base_uri": "https://localhost:8080/"
        },
        "id": "HOJCZUA0ZWos",
        "outputId": "db4ae409-4484-4dd0-c6f8-cefa5cab06ff"
      },
      "execution_count": 43,
      "outputs": [
        {
          "output_type": "stream",
          "name": "stdout",
          "text": [
            "9\n"
          ]
        }
      ]
    }
  ]
}