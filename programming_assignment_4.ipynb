{
  "nbformat": 4,
  "nbformat_minor": 0,
  "metadata": {
    "colab": {
      "name": "programming_assignment_4.ipynb",
      "provenance": [],
      "authorship_tag": "ABX9TyMkWVzGi5Wd8W0JYbhlm4Wy",
      "include_colab_link": true
    },
    "kernelspec": {
      "name": "python3",
      "display_name": "Python 3"
    },
    "language_info": {
      "name": "python"
    }
  },
  "cells": [
    {
      "cell_type": "markdown",
      "metadata": {
        "id": "view-in-github",
        "colab_type": "text"
      },
      "source": [
        "<a href=\"https://colab.research.google.com/github/Deepak0325/Python/blob/main/programming_assignment_4.ipynb\" target=\"_parent\"><img src=\"https://colab.research.google.com/assets/colab-badge.svg\" alt=\"Open In Colab\"/></a>"
      ]
    },
    {
      "cell_type": "code",
      "execution_count": 1,
      "metadata": {
        "id": "Auk__9TP2ota"
      },
      "outputs": [],
      "source": [
        "#q1\n",
        "def factorial(a):\n",
        "  if a==0:\n",
        "    return 1\n",
        "  elif a>0:\n",
        "    return a*(factorial(a-1))"
      ]
    },
    {
      "cell_type": "code",
      "source": [
        "factorial(6)"
      ],
      "metadata": {
        "colab": {
          "base_uri": "https://localhost:8080/"
        },
        "id": "CO1tvsTt3K6q",
        "outputId": "efe47b78-32e8-490d-d9cb-8ab414cf22b5"
      },
      "execution_count": 3,
      "outputs": [
        {
          "output_type": "execute_result",
          "data": {
            "text/plain": [
              "720"
            ]
          },
          "metadata": {},
          "execution_count": 3
        }
      ]
    },
    {
      "cell_type": "code",
      "source": [
        "#q2\n",
        "inp_num=int(input(\"Enter the number:\"))\n",
        "for i in range(1,11):\n",
        "  print(f\"{inp_num} x {i} = {inp_num*i}\")"
      ],
      "metadata": {
        "colab": {
          "base_uri": "https://localhost:8080/"
        },
        "id": "nVzTmL3U3OXY",
        "outputId": "f9003a26-864b-474a-afaf-7f35e05e8173"
      },
      "execution_count": 7,
      "outputs": [
        {
          "output_type": "stream",
          "name": "stdout",
          "text": [
            "Enter the number:11\n",
            "11 x 1 = 11\n",
            "11 x 2 = 22\n",
            "11 x 3 = 33\n",
            "11 x 4 = 44\n",
            "11 x 5 = 55\n",
            "11 x 6 = 66\n",
            "11 x 7 = 77\n",
            "11 x 8 = 88\n",
            "11 x 9 = 99\n",
            "11 x 10 = 110\n"
          ]
        }
      ]
    },
    {
      "cell_type": "code",
      "source": [
        "#q3\n",
        "inp_num=int(input(\"Enter a number :\"))\n",
        "for i in range(0,inp_num):\n",
        "  if i==0:\n",
        "    print(i,end=\",\")\n",
        "  elif i==1:\n",
        "    print(i,end=\",\")\n",
        "  else:\n",
        "    print((i-1)+(i-2),end=\",\")"
      ],
      "metadata": {
        "colab": {
          "base_uri": "https://localhost:8080/"
        },
        "id": "xRnzMU_J4EUZ",
        "outputId": "b2b83937-061b-46b1-86a0-3d6a838efa02"
      },
      "execution_count": 9,
      "outputs": [
        {
          "output_type": "stream",
          "name": "stdout",
          "text": [
            "Enter a number :7\n",
            "0,1,1,3,5,7,9,"
          ]
        }
      ]
    },
    {
      "cell_type": "code",
      "source": [
        "#q4\n",
        "j=[]\n",
        "inp_num=input(\"enter a number:\")\n",
        "if type(inp_num)==str:\n",
        "  for i in range(len(inp_num)):\n",
        "    j.append((int(inp_num[i])**len(inp_num)))\n",
        "if sum(j)==int(inp_num):\n",
        "  print(True)\n",
        "else:\n",
        "  print(False)"
      ],
      "metadata": {
        "colab": {
          "base_uri": "https://localhost:8080/"
        },
        "id": "wzSe9AcM46Mw",
        "outputId": "bc80cdc6-fbea-47b1-b878-5c305752cfe7"
      },
      "execution_count": 19,
      "outputs": [
        {
          "output_type": "stream",
          "name": "stdout",
          "text": [
            "enter a number:371\n",
            "True\n"
          ]
        }
      ]
    },
    {
      "cell_type": "code",
      "source": [
        "#q5\n",
        "j=[]\n",
        "k=[]\n",
        "inp_1=int(input(\"enter a number:\"))\n",
        "inp_2=int(input(\"enter second number:\"))\n",
        "for i in range(inp_1,inp_2+1):\n",
        "  for p in range(len(str(i))):\n",
        "    j.append(int(str(i)[p])**len(str(i)))\n",
        "  if sum(j)==i:\n",
        "    k.append(i)\n",
        "    j=[]\n",
        "  else:\n",
        "    pass\n",
        "    j=[]\n",
        "print(k)\n",
        "  \n",
        "\n",
        "\n",
        "  "
      ],
      "metadata": {
        "colab": {
          "base_uri": "https://localhost:8080/"
        },
        "id": "S3im4RE06U3a",
        "outputId": "64e02155-5a52-42ca-be25-a57b2ebad21b"
      },
      "execution_count": 28,
      "outputs": [
        {
          "output_type": "stream",
          "name": "stdout",
          "text": [
            "enter a number:300\n",
            "enter second number:400\n",
            "[370, 371]\n"
          ]
        }
      ]
    },
    {
      "cell_type": "code",
      "source": [
        "#q6\n",
        "def sum_natural_no(a,b):\n",
        "  j=[]\n",
        "  if a>0 and b>0:\n",
        "    for i in range(a,b+1):\n",
        "      j.append(i)\n",
        "    return sum(j)\n",
        "  else:\n",
        "    raise ValueError(\"Values should be greater than 0\")"
      ],
      "metadata": {
        "id": "kmc4tahS87eq"
      },
      "execution_count": 30,
      "outputs": []
    },
    {
      "cell_type": "code",
      "source": [
        "sum_natural_no(1,100)"
      ],
      "metadata": {
        "colab": {
          "base_uri": "https://localhost:8080/"
        },
        "id": "1LpGyizh-em6",
        "outputId": "46caa603-5763-4bec-e753-a67776ae0201"
      },
      "execution_count": 33,
      "outputs": [
        {
          "output_type": "execute_result",
          "data": {
            "text/plain": [
              "5050"
            ]
          },
          "metadata": {},
          "execution_count": 33
        }
      ]
    }
  ]
}