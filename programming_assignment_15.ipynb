{
  "nbformat": 4,
  "nbformat_minor": 0,
  "metadata": {
    "colab": {
      "name": "programming_assignment 15.ipynb",
      "provenance": [],
      "collapsed_sections": [],
      "authorship_tag": "ABX9TyMDIJoe4m4uJe+KyS0yVy8Y",
      "include_colab_link": true
    },
    "kernelspec": {
      "name": "python3",
      "display_name": "Python 3"
    },
    "language_info": {
      "name": "python"
    }
  },
  "cells": [
    {
      "cell_type": "markdown",
      "metadata": {
        "id": "view-in-github",
        "colab_type": "text"
      },
      "source": [
        "<a href=\"https://colab.research.google.com/github/Deepak0325/Python/blob/main/programming_assignment_15.ipynb\" target=\"_parent\"><img src=\"https://colab.research.google.com/assets/colab-badge.svg\" alt=\"Open In Colab\"/></a>"
      ]
    },
    {
      "cell_type": "code",
      "execution_count": 1,
      "metadata": {
        "id": "65fW9plFv3Md"
      },
      "outputs": [],
      "source": [
        "#q1\n",
        "def divisible(n):\n",
        "  for i in range(0,n+1):\n",
        "      if i%5==0 and i%7==0:\n",
        "        yield i\n"
      ]
    },
    {
      "cell_type": "code",
      "source": [
        "a=divisible(100)"
      ],
      "metadata": {
        "id": "h6tutdO3wx_v"
      },
      "execution_count": 2,
      "outputs": []
    },
    {
      "cell_type": "code",
      "source": [
        "for i in a:\n",
        "  print(i,end=\",\")"
      ],
      "metadata": {
        "colab": {
          "base_uri": "https://localhost:8080/"
        },
        "id": "1FHdePNtxAyw",
        "outputId": "d70ddff4-d88f-45ea-88ba-bcce03907601"
      },
      "execution_count": 3,
      "outputs": [
        {
          "output_type": "stream",
          "name": "stdout",
          "text": [
            "0,35,70,"
          ]
        }
      ]
    },
    {
      "cell_type": "code",
      "source": [
        "#q2\n",
        "def even_no(n):\n",
        "  for i in range(0,n+1):\n",
        "    if i%2==0:\n",
        "      yield i"
      ],
      "metadata": {
        "id": "eeMcaWyTyGFZ"
      },
      "execution_count": null,
      "outputs": []
    },
    {
      "cell_type": "code",
      "source": [
        "a=even_no(10)"
      ],
      "metadata": {
        "id": "UZXYey8hzmcJ"
      },
      "execution_count": null,
      "outputs": []
    },
    {
      "cell_type": "code",
      "source": [
        "for i in a:\n",
        "  print(i,end=\",\")"
      ],
      "metadata": {
        "colab": {
          "base_uri": "https://localhost:8080/"
        },
        "id": "pIjQcxZUzpXk",
        "outputId": "20e0887b-7e4b-41a7-94eb-60d040313659"
      },
      "execution_count": null,
      "outputs": [
        {
          "output_type": "stream",
          "name": "stdout",
          "text": [
            "0,2,4,6,8,10,"
          ]
        }
      ]
    },
    {
      "cell_type": "code",
      "source": [
        "#q3\n",
        "l=[]\n",
        "def fibonacci(n):\n",
        "  for i in range(0,n+1):\n",
        "    if i==0:\n",
        "      l.append(0)\n",
        "    elif i==1:\n",
        "      l.append(1)\n",
        "    elif i>1:\n",
        "      l.append(l[i-2]+l[i-1])\n",
        "  return l"
      ],
      "metadata": {
        "id": "z-vTCwQdzrKU"
      },
      "execution_count": null,
      "outputs": []
    },
    {
      "cell_type": "code",
      "source": [
        "fibonacci(7)"
      ],
      "metadata": {
        "colab": {
          "base_uri": "https://localhost:8080/"
        },
        "id": "Kwsg0v6s1OPn",
        "outputId": "579698f5-981e-4eb0-b39c-39d95320bb90"
      },
      "execution_count": null,
      "outputs": [
        {
          "output_type": "execute_result",
          "data": {
            "text/plain": [
              "[0, 1, 1, 2, 3, 5, 8, 13]"
            ]
          },
          "metadata": {},
          "execution_count": 44
        }
      ]
    },
    {
      "cell_type": "code",
      "source": [
        "#q4\n",
        "def user_name(inp_):\n",
        "      return inp_[:inp_.find(\"@\")]\n"
      ],
      "metadata": {
        "id": "u2vR2rYP2Vri"
      },
      "execution_count": null,
      "outputs": []
    },
    {
      "cell_type": "code",
      "source": [
        "print(user_name(\"deepak@gmail.com\"))"
      ],
      "metadata": {
        "colab": {
          "base_uri": "https://localhost:8080/"
        },
        "id": "VUtgtZmc4yFh",
        "outputId": "26387540-1da9-4337-b8ea-83c4e92d618c"
      },
      "execution_count": null,
      "outputs": [
        {
          "output_type": "stream",
          "name": "stdout",
          "text": [
            "deepak\n"
          ]
        }
      ]
    },
    {
      "cell_type": "code",
      "source": [
        "#q5\n",
        "class shape:\n",
        "  def area(self,length):\n",
        "    return 0\n",
        "  class square:\n",
        "    def __init__(self,length):\n",
        "      self.length=length\n",
        "    def area(self):\n",
        "      return (self.length*self.length)"
      ],
      "metadata": {
        "id": "QOo1yhE34nN-"
      },
      "execution_count": null,
      "outputs": []
    },
    {
      "cell_type": "code",
      "source": [
        "a=shape()"
      ],
      "metadata": {
        "id": "Xzq6VoZ059Y6"
      },
      "execution_count": null,
      "outputs": []
    },
    {
      "cell_type": "code",
      "source": [
        "b=a.square(5)"
      ],
      "metadata": {
        "id": "aCF2jxlV6AAz"
      },
      "execution_count": null,
      "outputs": []
    },
    {
      "cell_type": "code",
      "source": [
        "b.area()"
      ],
      "metadata": {
        "colab": {
          "base_uri": "https://localhost:8080/"
        },
        "id": "g5i2t96i6C9m",
        "outputId": "5341d9de-115a-42bd-b191-a48b180b8909"
      },
      "execution_count": null,
      "outputs": [
        {
          "output_type": "execute_result",
          "data": {
            "text/plain": [
              "25"
            ]
          },
          "metadata": {},
          "execution_count": 60
        }
      ]
    }
  ]
}