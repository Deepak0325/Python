{
  "nbformat": 4,
  "nbformat_minor": 0,
  "metadata": {
    "colab": {
      "name": "Assignment25.ipynb",
      "provenance": [],
      "collapsed_sections": []
    },
    "kernelspec": {
      "name": "python3",
      "display_name": "Python 3"
    },
    "language_info": {
      "name": "python"
    }
  },
  "cells": [
    {
      "cell_type": "code",
      "execution_count": 7,
      "metadata": {
        "id": "17s4TMv0b3f6"
      },
      "outputs": [],
      "source": [
        "#q1\n",
        "# Creating a functionthat takes three integer arguments (a, b, c) and returns the amount of\n",
        "#integers which are of equal value.\n",
        "def equal(a,b,c):\n",
        "  try:\n",
        "    if type(a)!=int or type(b)!=int or type(c)!=int:\n",
        "      raise TypeError(\"Only integers\")\n",
        "    if a==b and b!=c:\n",
        "      return 2\n",
        "    elif b==c and c!=a:\n",
        "      return 2\n",
        "    elif a==c and b!=c:\n",
        "      return 2\n",
        "    elif a==b==c:\n",
        "      return 3\n",
        "    else:\n",
        "      return 0\n",
        "  except Exception as e:\n",
        "    return e"
      ]
    },
    {
      "cell_type": "code",
      "source": [
        "print(equal(2,2,2))"
      ],
      "metadata": {
        "colab": {
          "base_uri": "https://localhost:8080/"
        },
        "id": "8qjcZ_X-cun0",
        "outputId": "dd5ba77b-117a-4553-b819-0e97d0920fa2"
      },
      "execution_count": 8,
      "outputs": [
        {
          "output_type": "stream",
          "name": "stdout",
          "text": [
            "3\n"
          ]
        }
      ]
    },
    {
      "cell_type": "code",
      "source": [
        "#q2\n",
        "l1=[]\n",
        "def dict_to_list(dict_):\n",
        "  try:\n",
        "    if type(dict_)==dict:\n",
        "      for i,j in dict_.items():\n",
        "          l1.append((i,j))\n",
        "          l1.sort(key=ascii)\n",
        "      return l1\n",
        "    else:\n",
        "      raise TypeError(\"Data structure is not of type Dictionary\")\n",
        "  except Exception as e:\n",
        "    return e"
      ],
      "metadata": {
        "id": "SVb9JHyqgPMk"
      },
      "execution_count": 25,
      "outputs": []
    },
    {
      "cell_type": "code",
      "source": [
        "print(dict_to_list({\"d\":\"f\",\"a\":\"z\",\"c\":\"t\"}))"
      ],
      "metadata": {
        "colab": {
          "base_uri": "https://localhost:8080/"
        },
        "id": "iMgHiRQdfTMM",
        "outputId": "5c159c56-6563-416e-f124-1bae46be7b7d"
      },
      "execution_count": 26,
      "outputs": [
        {
          "output_type": "stream",
          "name": "stdout",
          "text": [
            "[('a', 'z'), ('c', 't'), ('d', 'f')]\n"
          ]
        }
      ]
    },
    {
      "cell_type": "code",
      "source": [
        "#q3\n",
        "dict_={}\n",
        "def mapping(list_):\n",
        "  for i in list_:\n",
        "    dict_[i]=str(i).upper()\n",
        "  return dict_"
      ],
      "metadata": {
        "id": "r1-Lu7KcI7m8"
      },
      "execution_count": 30,
      "outputs": []
    },
    {
      "cell_type": "code",
      "source": [
        "print(mapping([\"a\",\"b\",\"c\"]))"
      ],
      "metadata": {
        "colab": {
          "base_uri": "https://localhost:8080/"
        },
        "id": "dyzbtm0xJlsi",
        "outputId": "ac5d0d36-0971-4b92-d42f-53125a499659"
      },
      "execution_count": 31,
      "outputs": [
        {
          "output_type": "stream",
          "name": "stdout",
          "text": [
            "{'a': 'A', 'b': 'B', 'c': 'C'}\n"
          ]
        }
      ]
    },
    {
      "cell_type": "code",
      "source": [
        "#q4\n",
        "def vow_replace(inp,rep):\n",
        "  new_str=inp\n",
        "  for i in inp:\n",
        "    if i==\"a\":\n",
        "      new_str=inp.replace(i,rep)\n",
        "    if i==\"e\":\n",
        "      new_str=new_str.replace(i,rep)\n",
        "    if i==\"i\":\n",
        "      new_str=new_str.replace(i,rep)\n",
        "    if i==\"o\":\n",
        "      new_str=new_str.replace(i,rep)\n",
        "    if i==\"u\":\n",
        "      new_str=new_str.replace(i,rep)\n",
        "  return new_str"
      ],
      "metadata": {
        "id": "zCig097lJ4L5"
      },
      "execution_count": null,
      "outputs": []
    },
    {
      "cell_type": "code",
      "source": [
        "print(vow_replace(\"hello world\",\"p\"))"
      ],
      "metadata": {
        "colab": {
          "base_uri": "https://localhost:8080/"
        },
        "id": "yHfcRE9pKwpn",
        "outputId": "deada35b-8ebd-4d3a-90d9-a2b06310299d"
      },
      "execution_count": null,
      "outputs": [
        {
          "output_type": "stream",
          "name": "stdout",
          "text": [
            "hpllp wprld\n"
          ]
        }
      ]
    },
    {
      "cell_type": "code",
      "source": [
        "#q5\n",
        "def ascii_capitalize(inp):\n",
        "  inp=inp\n",
        "  for i in inp:\n",
        "    if ord(i)%2==0:\n",
        "      inp=inp.replace(i,str(i).upper())\n",
        "    if ord(i)%2!=0:\n",
        "      inp=inp.replace(i,str(i).lower())\n",
        "    if i==\" \":\n",
        "      pass\n",
        "  return inp\n"
      ],
      "metadata": {
        "id": "kj17rsK7LdxH"
      },
      "execution_count": 27,
      "outputs": []
    },
    {
      "cell_type": "code",
      "source": [
        "print(ascii_capitalize(\"to be or not to be\"))"
      ],
      "metadata": {
        "colab": {
          "base_uri": "https://localhost:8080/",
          "height": 36
        },
        "id": "rWVXmiMvivIJ",
        "outputId": "4a8659be-d097-41c0-e464-830d15e070a0"
      },
      "execution_count": 29,
      "outputs": [
        {
          "output_type": "execute_result",
          "data": {
            "text/plain": [
              "'To Be oR NoT To Be'"
            ],
            "application/vnd.google.colaboratory.intrinsic+json": {
              "type": "string"
            }
          },
          "metadata": {},
          "execution_count": 29
        }
      ]
    },
    {
      "cell_type": "code",
      "source": [
        "print(ascii_capitalize(\"helloworldiamdeepak\"))"
      ],
      "metadata": {
        "colab": {
          "base_uri": "https://localhost:8080/",
          "height": 36
        },
        "id": "GwmdDKNRO0et",
        "outputId": "5e46f197-cc4c-45b8-8bb0-0b12bc5fa863"
      },
      "execution_count": 28,
      "outputs": [
        {
          "output_type": "execute_result",
          "data": {
            "text/plain": [
              "'HeLLowoRLDiamDeePak'"
            ],
            "application/vnd.google.colaboratory.intrinsic+json": {
              "type": "string"
            }
          },
          "metadata": {},
          "execution_count": 28
        }
      ]
    },
    {
      "cell_type": "code",
      "source": [
        "print(ascii_capitalize(\"Hello WORLD I AM DEEPAK\"))"
      ],
      "metadata": {
        "colab": {
          "base_uri": "https://localhost:8080/",
          "height": 36
        },
        "id": "srzJtZxgPWxa",
        "outputId": "6077175e-1e69-4d92-ce07-e7782e325bb2"
      },
      "execution_count": null,
      "outputs": [
        {
          "output_type": "execute_result",
          "data": {
            "text/plain": [
              "'HeLLo woRLD i am DeePak'"
            ],
            "application/vnd.google.colaboratory.intrinsic+json": {
              "type": "string"
            }
          },
          "metadata": {},
          "execution_count": 55
        }
      ]
    }
  ]
}