{
  "nbformat": 4,
  "nbformat_minor": 0,
  "metadata": {
    "colab": {
      "name": "programming assignment 1.ipynb",
      "provenance": [],
      "authorship_tag": "ABX9TyOaAOfKqjW3n9j+14gdl/Cp",
      "include_colab_link": true
    },
    "kernelspec": {
      "name": "python3",
      "display_name": "Python 3"
    },
    "language_info": {
      "name": "python"
    }
  },
  "cells": [
    {
      "cell_type": "markdown",
      "metadata": {
        "id": "view-in-github",
        "colab_type": "text"
      },
      "source": [
        "<a href=\"https://colab.research.google.com/github/Deepak0325/Python/blob/main/programming_assignment_1.ipynb\" target=\"_parent\"><img src=\"https://colab.research.google.com/assets/colab-badge.svg\" alt=\"Open In Colab\"/></a>"
      ]
    },
    {
      "cell_type": "code",
      "execution_count": 1,
      "metadata": {
        "colab": {
          "base_uri": "https://localhost:8080/"
        },
        "id": "C6HjECqkP9pb",
        "outputId": "5f3f83ac-0db9-4b5e-da70-8627f6ebb788"
      },
      "outputs": [
        {
          "output_type": "stream",
          "name": "stdout",
          "text": [
            "hello python\n"
          ]
        }
      ],
      "source": [
        "#q1\n",
        "print(\"hello python\")"
      ]
    },
    {
      "cell_type": "code",
      "source": [
        "#q2\n",
        "input_1=int(input(\"Enter your first number :\"))\n",
        "input_2=int(input(\"Enter your second number :\"))\n",
        "arithmetic_op=input('Enter\"+\" for addition and \"/\" for division:')\n",
        "try:\n",
        "  if arithmetic_op==\"+\":\n",
        "    print(input_1+input_2)\n",
        "  elif arithmetic_op==\"/\":\n",
        "    print(input_1/input_2)\n",
        "except Exception as e:\n",
        "  print(e)\n"
      ],
      "metadata": {
        "colab": {
          "base_uri": "https://localhost:8080/"
        },
        "id": "xsbpjkYSQQZK",
        "outputId": "07873826-6d1d-4165-b4c0-d4dd5d52f315"
      },
      "execution_count": 4,
      "outputs": [
        {
          "output_type": "stream",
          "name": "stdout",
          "text": [
            "Enter your first number :10\n",
            "Enter your second number :2\n",
            "Enter\"+\" for addition and \"/\" for division:/\n",
            "5.0\n"
          ]
        }
      ]
    },
    {
      "cell_type": "code",
      "source": [
        "#q3\n",
        "height=int(input(\"Enter the length height of the triangle:\"))\n",
        "base=int(input(\"Enter the length base of the triangle:\"))\n",
        "try:\n",
        "  print(0.5*height*base)\n",
        "except Exception as e:\n",
        "  print(e)"
      ],
      "metadata": {
        "colab": {
          "base_uri": "https://localhost:8080/"
        },
        "id": "71PplmJlR6Pc",
        "outputId": "8fd312e3-296e-4897-af0c-a3679976070b"
      },
      "execution_count": 5,
      "outputs": [
        {
          "output_type": "stream",
          "name": "stdout",
          "text": [
            "Enter the length height of the triangle:5\n",
            "Enter the length base of the triangle:10\n",
            "25.0\n"
          ]
        }
      ]
    },
    {
      "cell_type": "code",
      "source": [
        "#q4\n",
        "var_1=input(\"Enter your first variable:\")\n",
        "var_2=input(\"Enter your second variable:\")\n",
        "var_1,var_2=var_2,var_1\n",
        "print(f\"Value of first variable is {var_1}\")\n",
        "print(f\"Value of second variable is {var_2}\")"
      ],
      "metadata": {
        "colab": {
          "base_uri": "https://localhost:8080/"
        },
        "id": "wNR9v3DOSdA6",
        "outputId": "b88f2034-cf01-47a2-cf6e-83255c3a78ec"
      },
      "execution_count": 6,
      "outputs": [
        {
          "output_type": "stream",
          "name": "stdout",
          "text": [
            "Enter your first variable:5\n",
            "Enter your second variable:10\n",
            "Value of first variable is 10\n",
            "Value of second variable is 5\n"
          ]
        }
      ]
    },
    {
      "cell_type": "code",
      "source": [
        "#q5\n",
        "import random\n",
        "a=random.random()\n",
        "print(a)"
      ],
      "metadata": {
        "colab": {
          "base_uri": "https://localhost:8080/"
        },
        "id": "3htfEW1LTEdx",
        "outputId": "9286807f-1b43-4025-ff87-7a878b79851e"
      },
      "execution_count": 9,
      "outputs": [
        {
          "output_type": "stream",
          "name": "stdout",
          "text": [
            "0.23603601198789503\n"
          ]
        }
      ]
    },
    {
      "cell_type": "code",
      "source": [
        ""
      ],
      "metadata": {
        "id": "mgszGNTXTUrq"
      },
      "execution_count": null,
      "outputs": []
    }
  ]
}