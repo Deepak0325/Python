{
  "nbformat": 4,
  "nbformat_minor": 0,
  "metadata": {
    "colab": {
      "name": "Programming Assignment 17.ipynb",
      "provenance": [],
      "collapsed_sections": [],
      "authorship_tag": "ABX9TyNX6nCbo2E1IXWTofRSjqn0",
      "include_colab_link": true
    },
    "kernelspec": {
      "name": "python3",
      "display_name": "Python 3"
    },
    "language_info": {
      "name": "python"
    }
  },
  "cells": [
    {
      "cell_type": "markdown",
      "metadata": {
        "id": "view-in-github",
        "colab_type": "text"
      },
      "source": [
        "<a href=\"https://colab.research.google.com/github/Deepak0325/Python/blob/main/Programming_Assignment_17.ipynb\" target=\"_parent\"><img src=\"https://colab.research.google.com/assets/colab-badge.svg\" alt=\"Open In Colab\"/></a>"
      ]
    },
    {
      "cell_type": "code",
      "execution_count": 1,
      "metadata": {
        "id": "IMnTReGR8_-t"
      },
      "outputs": [],
      "source": [
        "#q1\n",
        "def evenly_divisible(a,b,c):\n",
        "  c=c\n",
        "  l=[]\n",
        "  for i in range(a,b+1):\n",
        "    if i%c==0:\n",
        "      l.append(i)\n",
        "    else:\n",
        "      pass\n",
        "  return sum(l)"
      ]
    },
    {
      "cell_type": "code",
      "source": [
        "print(evenly_divisible(1,10,3))"
      ],
      "metadata": {
        "colab": {
          "base_uri": "https://localhost:8080/"
        },
        "id": "bQUWUsAw_ICY",
        "outputId": "304d00bc-18e0-498d-fc1e-42aa51d3650f"
      },
      "execution_count": 2,
      "outputs": [
        {
          "output_type": "execute_result",
          "data": {
            "text/plain": [
              "18"
            ]
          },
          "metadata": {},
          "execution_count": 2
        }
      ]
    },
    {
      "cell_type": "code",
      "source": [
        "print(evenly_divisible(1,10,2))"
      ],
      "metadata": {
        "colab": {
          "base_uri": "https://localhost:8080/"
        },
        "id": "im7CMNv8I95W",
        "outputId": "c72617ae-9542-4b0f-cdc1-595311b67537"
      },
      "execution_count": 4,
      "outputs": [
        {
          "output_type": "stream",
          "name": "stdout",
          "text": [
            "30\n"
          ]
        }
      ]
    },
    {
      "cell_type": "code",
      "source": [
        "#q2\n",
        "def correct_signs(a):\n",
        "  \"\"\"This function will return True or False based on the inequality expression\"\"\"\n",
        "  l=[]\n",
        "  for i in a:\n",
        "    if i==\">\":\n",
        "      if float(a[a.find(i)-1])>float(a[a.find(i)+1]):\n",
        "        l.append(True)\n",
        "    elif i == \"<\":\n",
        "      if float(a[a.find(i)-1])<float(a[a.find(i)+1]):\n",
        "        l.append(True)\n",
        "  if False in l:\n",
        "    return False\n",
        "  else:\n",
        "    return True\n",
        "    "
      ],
      "metadata": {
        "id": "O0ny1ZmzEfuI"
      },
      "execution_count": 5,
      "outputs": []
    },
    {
      "cell_type": "code",
      "source": [
        "print(correct_signs(\"3<7<11\"))"
      ],
      "metadata": {
        "colab": {
          "base_uri": "https://localhost:8080/"
        },
        "id": "HRir75W-LI-J",
        "outputId": "f95ade30-1e04-4c3b-ffd3-494ef42991ec"
      },
      "execution_count": 7,
      "outputs": [
        {
          "output_type": "stream",
          "name": "stdout",
          "text": [
            "True\n"
          ]
        }
      ]
    },
    {
      "cell_type": "code",
      "source": [
        "print(correct_signs(\"1<2<6<9>3\"))"
      ],
      "metadata": {
        "colab": {
          "base_uri": "https://localhost:8080/"
        },
        "id": "4vaJin9XLTFh",
        "outputId": "52b3c60b-1587-4eb4-f09c-083e1a0a0cbd"
      },
      "execution_count": 8,
      "outputs": [
        {
          "output_type": "stream",
          "name": "stdout",
          "text": [
            "True\n"
          ]
        }
      ]
    },
    {
      "cell_type": "code",
      "source": [
        "#q3\n",
        "def replace_vowels(a,b):\n",
        "  for i in a:\n",
        "    if i==\"a\":\n",
        "      a=a.replace(i,b)\n",
        "    if i==\"e\":\n",
        "      a=a.replace(i,b)\n",
        "    if i==\"i\":\n",
        "      a=a.replace(i,b)\n",
        "    if i==\"o\":\n",
        "      a=a.replace(i,b)\n",
        "    if i==\"u\":\n",
        "      a=a.replace(i,b)\n",
        "  return a"
      ],
      "metadata": {
        "id": "4e_6ZapHCo7j"
      },
      "execution_count": null,
      "outputs": []
    },
    {
      "cell_type": "code",
      "source": [
        "print(replace_vowels(\"hello world\",\"b\"))"
      ],
      "metadata": {
        "colab": {
          "base_uri": "https://localhost:8080/"
        },
        "id": "5qhcgRU2EP7o",
        "outputId": "a563de4e-5a32-4368-c6dc-21f500ad7a92"
      },
      "execution_count": null,
      "outputs": [
        {
          "output_type": "stream",
          "name": "stdout",
          "text": [
            "hbllb wbrld\n"
          ]
        }
      ]
    },
    {
      "cell_type": "code",
      "source": [
        "#q4\n",
        "def factorial(a):\n",
        "  if a>0:\n",
        "    return a*factorial(a-1)\n",
        "  elif a==0:\n",
        "    return 1"
      ],
      "metadata": {
        "id": "U9EidlZaB362"
      },
      "execution_count": null,
      "outputs": []
    },
    {
      "cell_type": "code",
      "source": [
        "factorial(5)"
      ],
      "metadata": {
        "colab": {
          "base_uri": "https://localhost:8080/"
        },
        "id": "EDoWc_WkB3y-",
        "outputId": "f2362f56-5e05-41c0-fb37-a6352ab5bb6e"
      },
      "execution_count": null,
      "outputs": [
        {
          "output_type": "execute_result",
          "data": {
            "text/plain": [
              "120"
            ]
          },
          "metadata": {},
          "execution_count": 19
        }
      ]
    },
    {
      "cell_type": "code",
      "source": [
        "#q5\n",
        "def hamming_distance(a,b):\n",
        "  l=[]\n",
        "  for i in range(len(a)):\n",
        "    if a[i]!=b[i]:\n",
        "      l.append(1)\n",
        "  return sum(l)"
      ],
      "metadata": {
        "id": "cMxlBv4K_MMO"
      },
      "execution_count": null,
      "outputs": []
    },
    {
      "cell_type": "code",
      "source": [
        "print(hamming_distance(\"strong\",\"strung\"))"
      ],
      "metadata": {
        "colab": {
          "base_uri": "https://localhost:8080/"
        },
        "id": "igA24E6eAzi3",
        "outputId": "1adf7703-5569-4cfc-9425-510e9a993324"
      },
      "execution_count": null,
      "outputs": [
        {
          "output_type": "stream",
          "name": "stdout",
          "text": [
            "1\n"
          ]
        }
      ]
    },
    {
      "cell_type": "code",
      "source": [
        "print(hamming_distance(\"abcde\",\"bcdef\"))"
      ],
      "metadata": {
        "colab": {
          "base_uri": "https://localhost:8080/"
        },
        "id": "q-SnLg8tA4KH",
        "outputId": "c8f8badf-13ff-4aca-d984-ad03dce32702"
      },
      "execution_count": null,
      "outputs": [
        {
          "output_type": "stream",
          "name": "stdout",
          "text": [
            "5\n"
          ]
        }
      ]
    },
    {
      "cell_type": "code",
      "source": [
        "print(hamming_distance(\"abcde\",\"abcde\"))"
      ],
      "metadata": {
        "colab": {
          "base_uri": "https://localhost:8080/"
        },
        "id": "Yds0hk8PA-10",
        "outputId": "046d5e15-c2be-42e6-8c52-ea1997eb5388"
      },
      "execution_count": null,
      "outputs": [
        {
          "output_type": "stream",
          "name": "stdout",
          "text": [
            "0\n"
          ]
        }
      ]
    }
  ]
}