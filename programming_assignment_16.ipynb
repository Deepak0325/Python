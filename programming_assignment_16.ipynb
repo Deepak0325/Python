{
  "nbformat": 4,
  "nbformat_minor": 0,
  "metadata": {
    "colab": {
      "name": "programming assignment 16.ipynb",
      "provenance": [],
      "collapsed_sections": [],
      "authorship_tag": "ABX9TyM8UVok6BRF0A8n3nJqjht1",
      "include_colab_link": true
    },
    "kernelspec": {
      "name": "python3",
      "display_name": "Python 3"
    },
    "language_info": {
      "name": "python"
    }
  },
  "cells": [
    {
      "cell_type": "markdown",
      "metadata": {
        "id": "view-in-github",
        "colab_type": "text"
      },
      "source": [
        "<a href=\"https://colab.research.google.com/github/Deepak0325/Python/blob/main/programming_assignment_16.ipynb\" target=\"_parent\"><img src=\"https://colab.research.google.com/assets/colab-badge.svg\" alt=\"Open In Colab\"/></a>"
      ]
    },
    {
      "cell_type": "code",
      "execution_count": null,
      "metadata": {
        "id": "fTw2KY0eqJ6p"
      },
      "outputs": [],
      "source": [
        "#q1\n",
        "def shutter(inp_):\n",
        "  inp_=inp_\n",
        "  \"\"\" This function will return the word as if someone is struggling to read it \"\"\"\n",
        "  try:\n",
        "    return str(inp_[0:2]+\"...\"+\" \"+inp_[0:2]+\"...\"+\" \"+inp_+\"?\")\n",
        "  except Exception as e:\n",
        "    return e"
      ]
    },
    {
      "cell_type": "code",
      "source": [
        "print(shutter(\"hello\"))"
      ],
      "metadata": {
        "colab": {
          "base_uri": "https://localhost:8080/"
        },
        "id": "hHSxS1JFq_h-",
        "outputId": "7e836a0c-b8f4-4175-9ea0-0f09d22294c8"
      },
      "execution_count": null,
      "outputs": [
        {
          "output_type": "stream",
          "name": "stdout",
          "text": [
            "he... he... hello?\n"
          ]
        }
      ]
    },
    {
      "cell_type": "code",
      "source": [
        "#q2\n",
        "def radian_to_degree(inp_):\n",
        "  \"\"\"this function will convert radians to degree\"\"\"\n",
        "  return round(inp_*57.2958,1)"
      ],
      "metadata": {
        "id": "2XtJ-xG1rB2S"
      },
      "execution_count": null,
      "outputs": []
    },
    {
      "cell_type": "code",
      "source": [
        "print(radian_to_degree(50))"
      ],
      "metadata": {
        "colab": {
          "base_uri": "https://localhost:8080/"
        },
        "id": "wl3rnOE7sJO4",
        "outputId": "86941589-91ed-4777-b5af-c9c284fdc7a8"
      },
      "execution_count": null,
      "outputs": [
        {
          "output_type": "stream",
          "name": "stdout",
          "text": [
            "2864.8\n"
          ]
        }
      ]
    },
    {
      "cell_type": "code",
      "source": [
        "#q3\n",
        "def is_curzon(inp_):\n",
        "  \"\"\"This function will True if a number is a curzon number else it will return False\"\"\"\n",
        "  try:\n",
        "    if ((2**inp_)+1)%((2*5)+1)==0:\n",
        "      return True\n",
        "    else:\n",
        "      return False\n",
        "  except Exception as e:\n",
        "    return e"
      ],
      "metadata": {
        "id": "ZRNaYVXTsO1-"
      },
      "execution_count": null,
      "outputs": []
    },
    {
      "cell_type": "code",
      "source": [
        "print(is_curzon(5))"
      ],
      "metadata": {
        "colab": {
          "base_uri": "https://localhost:8080/"
        },
        "id": "YYxWZtfNtU2g",
        "outputId": "23f81344-528e-45d3-8542-4e581a1213e2"
      },
      "execution_count": null,
      "outputs": [
        {
          "output_type": "stream",
          "name": "stdout",
          "text": [
            "True\n"
          ]
        }
      ]
    },
    {
      "cell_type": "code",
      "source": [
        "print(is_curzon(10))"
      ],
      "metadata": {
        "colab": {
          "base_uri": "https://localhost:8080/"
        },
        "id": "nN1nXmlxtXm_",
        "outputId": "d156df20-f899-4d12-bfc9-5ee3acc87640"
      },
      "execution_count": null,
      "outputs": [
        {
          "output_type": "stream",
          "name": "stdout",
          "text": [
            "False\n"
          ]
        }
      ]
    },
    {
      "cell_type": "code",
      "source": [
        "#q4\n",
        "def area_of_hexagon(s):\n",
        "  \"\"\"This function will return the area of hexagon,here,s is the length of side of hexagon\"\"\"\n",
        "  try:\n",
        "    return round(((3*(3**0.5)*(s*s))/2),1)\n",
        "  except Exception as e:\n",
        "    return e\n"
      ],
      "metadata": {
        "id": "4QqDuyfwtd1O"
      },
      "execution_count": null,
      "outputs": []
    },
    {
      "cell_type": "code",
      "source": [
        "print(area_of_hexagon(1))"
      ],
      "metadata": {
        "colab": {
          "base_uri": "https://localhost:8080/"
        },
        "id": "gXQcGsQztknZ",
        "outputId": "40aadca7-5f67-4ad8-bfb5-6cc6781b48b7"
      },
      "execution_count": null,
      "outputs": [
        {
          "output_type": "stream",
          "name": "stdout",
          "text": [
            "2.6\n"
          ]
        }
      ]
    },
    {
      "cell_type": "code",
      "source": [
        "print(area_of_hexagon(2))"
      ],
      "metadata": {
        "colab": {
          "base_uri": "https://localhost:8080/"
        },
        "id": "lREuUoFntn2D",
        "outputId": "ccc2a2b3-0ee1-4f99-8311-b4b9a30eedd6"
      },
      "execution_count": null,
      "outputs": [
        {
          "output_type": "stream",
          "name": "stdout",
          "text": [
            "10.4\n"
          ]
        }
      ]
    },
    {
      "cell_type": "code",
      "source": [
        "#q5\n",
        "def Binary():\n",
        "  inp=int(input(\"Enter a number:\"))\n",
        "  num=bin(inp).replace(\"0b\",'')\n",
        "  print(f'Binary of {inp} is {num}')"
      ],
      "metadata": {
        "id": "tDL_f1_Tu4ov"
      },
      "execution_count": 1,
      "outputs": []
    },
    {
      "cell_type": "code",
      "source": [
        "Binary()"
      ],
      "metadata": {
        "colab": {
          "base_uri": "https://localhost:8080/"
        },
        "id": "ff5hSaLuN-4-",
        "outputId": "c7d403b0-0d6a-43f3-d819-b5f776c02c62"
      },
      "execution_count": 2,
      "outputs": [
        {
          "output_type": "stream",
          "name": "stdout",
          "text": [
            "Enter a number:1\n",
            "Binary of 1 is 1\n"
          ]
        }
      ]
    },
    {
      "cell_type": "code",
      "source": [
        "Binary()"
      ],
      "metadata": {
        "colab": {
          "base_uri": "https://localhost:8080/"
        },
        "id": "4NlKX5tEO4KB",
        "outputId": "67ded378-31c0-4fa2-ec50-24342e636cea"
      },
      "execution_count": 3,
      "outputs": [
        {
          "output_type": "stream",
          "name": "stdout",
          "text": [
            "Enter a number:5\n",
            "Binary of 5 is 101\n"
          ]
        }
      ]
    },
    {
      "cell_type": "code",
      "source": [
        "Binary()"
      ],
      "metadata": {
        "colab": {
          "base_uri": "https://localhost:8080/"
        },
        "id": "ZR3NOmWNO6oy",
        "outputId": "e50b9793-de6b-4077-8cef-c0be04105317"
      },
      "execution_count": 5,
      "outputs": [
        {
          "output_type": "stream",
          "name": "stdout",
          "text": [
            "Enter a number:10\n",
            "Binary of 10 is 1010\n"
          ]
        }
      ]
    },
    {
      "cell_type": "code",
      "source": [
        ""
      ],
      "metadata": {
        "id": "d6Y7treXO8aF"
      },
      "execution_count": null,
      "outputs": []
    }
  ]
}