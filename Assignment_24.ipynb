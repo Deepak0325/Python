{
  "nbformat": 4,
  "nbformat_minor": 0,
  "metadata": {
    "colab": {
      "name": "Assignment 24.ipynb",
      "provenance": [],
      "collapsed_sections": [],
      "authorship_tag": "ABX9TyNkMRtDLuXjimFuyHf4pMGK",
      "include_colab_link": true
    },
    "kernelspec": {
      "name": "python3",
      "display_name": "Python 3"
    },
    "language_info": {
      "name": "python"
    }
  },
  "cells": [
    {
      "cell_type": "markdown",
      "metadata": {
        "id": "view-in-github",
        "colab_type": "text"
      },
      "source": [
        "<a href=\"https://colab.research.google.com/github/Deepak0325/Python/blob/main/Assignment_24.ipynb\" target=\"_parent\"><img src=\"https://colab.research.google.com/assets/colab-badge.svg\" alt=\"Open In Colab\"/></a>"
      ]
    },
    {
      "cell_type": "code",
      "execution_count": null,
      "metadata": {
        "id": "nvNJ7WWEKg6f"
      },
      "outputs": [],
      "source": [
        "#q1\n",
        "# Using simple for loop and functions\n",
        "list_=[]\n",
        "def amplify(inp):\n",
        "  for i in range(1,inp+1):\n",
        "    if i%4==0:\n",
        "      list_.append(i*10)\n",
        "    else:\n",
        "      list_.append(i)\n",
        "  return list_"
      ]
    },
    {
      "cell_type": "code",
      "source": [
        "amplify(25)"
      ],
      "metadata": {
        "colab": {
          "base_uri": "https://localhost:8080/"
        },
        "id": "OgPXQ5DxK8Pw",
        "outputId": "6eaf39a0-095a-4a9a-90e1-fa3d938a11d7"
      },
      "execution_count": null,
      "outputs": [
        {
          "output_type": "execute_result",
          "data": {
            "text/plain": [
              "[1,\n",
              " 2,\n",
              " 3,\n",
              " 40,\n",
              " 5,\n",
              " 6,\n",
              " 7,\n",
              " 80,\n",
              " 9,\n",
              " 10,\n",
              " 11,\n",
              " 120,\n",
              " 13,\n",
              " 14,\n",
              " 15,\n",
              " 160,\n",
              " 17,\n",
              " 18,\n",
              " 19,\n",
              " 200,\n",
              " 21,\n",
              " 22,\n",
              " 23,\n",
              " 240,\n",
              " 25]"
            ]
          },
          "metadata": {},
          "execution_count": 7
        }
      ]
    },
    {
      "cell_type": "code",
      "source": [
        "# Using list comprehension and functions\n",
        "def amplify1(inp_):\n",
        "  list_1=[i*10 if i%4==0 else i for i in range(1,inp_+1)]\n",
        "  return list_1"
      ],
      "metadata": {
        "id": "WrBg64pmK_y-"
      },
      "execution_count": null,
      "outputs": []
    },
    {
      "cell_type": "code",
      "source": [
        "amplify1(25)"
      ],
      "metadata": {
        "colab": {
          "base_uri": "https://localhost:8080/"
        },
        "id": "lEWjP9cRLTN7",
        "outputId": "87bea650-29f3-45ea-8021-282791119815"
      },
      "execution_count": null,
      "outputs": [
        {
          "output_type": "execute_result",
          "data": {
            "text/plain": [
              "[1,\n",
              " 2,\n",
              " 3,\n",
              " 40,\n",
              " 5,\n",
              " 6,\n",
              " 7,\n",
              " 80,\n",
              " 9,\n",
              " 10,\n",
              " 11,\n",
              " 120,\n",
              " 13,\n",
              " 14,\n",
              " 15,\n",
              " 160,\n",
              " 17,\n",
              " 18,\n",
              " 19,\n",
              " 200,\n",
              " 21,\n",
              " 22,\n",
              " 23,\n",
              " 240,\n",
              " 25]"
            ]
          },
          "metadata": {},
          "execution_count": 12
        }
      ]
    },
    {
      "cell_type": "code",
      "source": [
        "#q2\n",
        "def unique(list_inp):\n",
        "  for i in list_inp:\n",
        "    if list(list_inp).count(i)==1:\n",
        "      return i"
      ],
      "metadata": {
        "id": "u2c1WDZKMZTT"
      },
      "execution_count": null,
      "outputs": []
    },
    {
      "cell_type": "code",
      "source": [
        "unique([1,1,1,1,1,1,0])"
      ],
      "metadata": {
        "colab": {
          "base_uri": "https://localhost:8080/"
        },
        "id": "718bZK91Ni_1",
        "outputId": "a8fefded-4bbf-44b5-cc6e-bf7f5748e90e"
      },
      "execution_count": null,
      "outputs": [
        {
          "output_type": "execute_result",
          "data": {
            "text/plain": [
              "0"
            ]
          },
          "metadata": {},
          "execution_count": 14
        }
      ]
    },
    {
      "cell_type": "code",
      "source": [
        "#q3\n",
        "class circy:\n",
        "  def __init__(self,radius):\n",
        "    self.radius=radius\n",
        "  def getArea(self):\n",
        "    try:\n",
        "      return round(3.14*(self.radius**2))\n",
        "    except Exception as e:\n",
        "      return e\n",
        "  def getPerimeter(self):\n",
        "    try:\n",
        "      return round(2*3.14*self.radius)\n",
        "    except Exception as e:\n",
        "      return e"
      ],
      "metadata": {
        "id": "WyHISibpNquF"
      },
      "execution_count": null,
      "outputs": []
    },
    {
      "cell_type": "code",
      "source": [
        "c=circy(10)"
      ],
      "metadata": {
        "id": "_kBgiH4POk4g"
      },
      "execution_count": null,
      "outputs": []
    },
    {
      "cell_type": "code",
      "source": [
        "c.getArea()"
      ],
      "metadata": {
        "colab": {
          "base_uri": "https://localhost:8080/"
        },
        "id": "fPBSj5KQOn5U",
        "outputId": "8b0dc4ff-e579-49b4-9a6a-7b2affe9013a"
      },
      "execution_count": null,
      "outputs": [
        {
          "output_type": "execute_result",
          "data": {
            "text/plain": [
              "314"
            ]
          },
          "metadata": {},
          "execution_count": 29
        }
      ]
    },
    {
      "cell_type": "code",
      "source": [
        "c.getPerimeter()"
      ],
      "metadata": {
        "colab": {
          "base_uri": "https://localhost:8080/"
        },
        "id": "1H-hHGoAOqOy",
        "outputId": "2af96850-4765-4412-8002-92f5a9cb2cec"
      },
      "execution_count": null,
      "outputs": [
        {
          "output_type": "execute_result",
          "data": {
            "text/plain": [
              "63"
            ]
          },
          "metadata": {},
          "execution_count": 30
        }
      ]
    },
    {
      "cell_type": "code",
      "source": [
        "#q4\n",
        "def sort_by_length(a):\n",
        "  a.sort(key=len)  \n",
        "  return a"
      ],
      "metadata": {
        "id": "DCrbtqv9Pz7k"
      },
      "execution_count": null,
      "outputs": []
    },
    {
      "cell_type": "code",
      "source": [
        "print(sort_by_length([\"hello\",\"bye\",\"ty\"]))"
      ],
      "metadata": {
        "colab": {
          "base_uri": "https://localhost:8080/"
        },
        "id": "w65v490tQRcK",
        "outputId": "db991d0d-52d6-4a70-cb24-8b3c5419d6bf"
      },
      "execution_count": null,
      "outputs": [
        {
          "output_type": "stream",
          "name": "stdout",
          "text": [
            "['ty', 'bye', 'hello']\n"
          ]
        }
      ]
    },
    {
      "cell_type": "code",
      "source": [
        "#q5\n",
        "def is_triplet(inp1,inp2,inp3):\n",
        "  if inp1**2+inp2**2==inp3**2:\n",
        "    print(True)\n",
        "    print(f\"{inp1**2} + {inp2**2} == {inp3**2}\")\n",
        "  elif inp2**2+inp3**2==inp1**2:\n",
        "    print(True)\n",
        "    print(f\"{inp2**2} + {inp3**2} == {inp1**2}\")\n",
        "  elif inp3**2+inp1**2==inp2**2:\n",
        "    print(True)\n",
        "    print(f\"{inp3**2} + {inp1**2} == {inp2**2}\")\n",
        "  else:\n",
        "    print(False)\n",
        "    print(f\"{inp1**2} + {inp2**2} != {inp3**2}\")"
      ],
      "metadata": {
        "id": "hudzPn63T35f"
      },
      "execution_count": null,
      "outputs": []
    },
    {
      "cell_type": "code",
      "source": [
        "is_triplet(1,2,3)"
      ],
      "metadata": {
        "colab": {
          "base_uri": "https://localhost:8080/"
        },
        "id": "IThqUzRxUkxT",
        "outputId": "62269356-76b3-471b-db53-0fca0d91b448"
      },
      "execution_count": null,
      "outputs": [
        {
          "output_type": "stream",
          "name": "stdout",
          "text": [
            "False\n",
            "1 + 4 != 9\n"
          ]
        }
      ]
    },
    {
      "cell_type": "code",
      "source": [
        "is_triplet(3,4,5)"
      ],
      "metadata": {
        "colab": {
          "base_uri": "https://localhost:8080/"
        },
        "id": "s7Kz_nS4Uozg",
        "outputId": "53856680-3db8-4f00-fdb9-2a0fd51b206a"
      },
      "execution_count": null,
      "outputs": [
        {
          "output_type": "stream",
          "name": "stdout",
          "text": [
            "True\n",
            "9 + 16 == 25\n"
          ]
        }
      ]
    },
    {
      "cell_type": "code",
      "source": [
        "is_triplet(5,3,4)"
      ],
      "metadata": {
        "colab": {
          "base_uri": "https://localhost:8080/"
        },
        "id": "xcQPfEFSVOl9",
        "outputId": "a2a7b99b-ab81-4824-cf13-c5b7db93ddac"
      },
      "execution_count": null,
      "outputs": [
        {
          "output_type": "stream",
          "name": "stdout",
          "text": [
            "True\n",
            "9 + 16 == 25\n"
          ]
        }
      ]
    },
    {
      "cell_type": "code",
      "source": [
        "is_triplet(13,5,12)"
      ],
      "metadata": {
        "colab": {
          "base_uri": "https://localhost:8080/"
        },
        "id": "e-G4l5B8VwUE",
        "outputId": "e5bf32f8-3006-4e2b-9aea-92a817ce8d41"
      },
      "execution_count": null,
      "outputs": [
        {
          "output_type": "stream",
          "name": "stdout",
          "text": [
            "True\n",
            "25 + 144 == 169\n"
          ]
        }
      ]
    },
    {
      "cell_type": "code",
      "source": [
        ""
      ],
      "metadata": {
        "id": "30g0aUB5lLUQ"
      },
      "execution_count": null,
      "outputs": []
    }
  ]
}